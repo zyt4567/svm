{
 "cells": [
  {
   "cell_type": "code",
   "execution_count": 2,
   "id": "b801d600",
   "metadata": {},
   "outputs": [
    {
     "ename": "RuntimeError",
     "evalue": "Unable to open shape_predictor_68_face_landmarks.dat",
     "output_type": "error",
     "traceback": [
      "\u001b[1;31m---------------------------------------------------------------------------\u001b[0m",
      "\u001b[1;31mRuntimeError\u001b[0m                              Traceback (most recent call last)",
      "\u001b[1;32m~\\AppData\\Local\\Temp/ipykernel_13392/271062691.py\u001b[0m in \u001b[0;36m<module>\u001b[1;34m\u001b[0m\n\u001b[0;32m     42\u001b[0m \u001b[1;33m\u001b[0m\u001b[0m\n\u001b[0;32m     43\u001b[0m \u001b[0mdetector\u001b[0m \u001b[1;33m=\u001b[0m \u001b[0mdlib\u001b[0m\u001b[1;33m.\u001b[0m\u001b[0mget_frontal_face_detector\u001b[0m\u001b[1;33m(\u001b[0m\u001b[1;33m)\u001b[0m\u001b[1;33m\u001b[0m\u001b[1;33m\u001b[0m\u001b[0m\n\u001b[1;32m---> 44\u001b[1;33m \u001b[0mpredictor\u001b[0m \u001b[1;33m=\u001b[0m \u001b[0mdlib\u001b[0m\u001b[1;33m.\u001b[0m\u001b[0mshape_predictor\u001b[0m\u001b[1;33m(\u001b[0m\u001b[1;34m'shape_predictor_68_face_landmarks.dat'\u001b[0m\u001b[1;33m)\u001b[0m\u001b[1;33m\u001b[0m\u001b[1;33m\u001b[0m\u001b[0m\n\u001b[0m\u001b[0;32m     45\u001b[0m \u001b[1;33m\u001b[0m\u001b[0m\n\u001b[0;32m     46\u001b[0m \u001b[1;33m\u001b[0m\u001b[0m\n",
      "\u001b[1;31mRuntimeError\u001b[0m: Unable to open shape_predictor_68_face_landmarks.dat"
     ]
    }
   ],
   "source": [
    "# -*- coding: utf-8 -*-\n",
    "\"\"\"\n",
    "Created on Wed Oct 27 03:15:10 2021\n",
    "\n",
    "@author: GT72VR\n",
    "\"\"\"\n",
    "import numpy as np\n",
    "import cv2\n",
    "import dlib\n",
    "import os\n",
    "import sys\n",
    "import random\n",
    "# 存储位置\n",
    "output_dir = 'd:/photo'\n",
    "size = 64\n",
    " \n",
    "if not os.path.exists(output_dir):\n",
    "    os.makedirs(output_dir)\n",
    "# 改变图片的亮度与对比度\n",
    " \n",
    "def relight(img, light=1, bias=0):\n",
    "    w = img.shape[1]\n",
    "    h = img.shape[0]\n",
    "    #image = []\n",
    "    for i in range(0,w):\n",
    "        for j in range(0,h):\n",
    "            for c in range(3):\n",
    "                tmp = int(img[j,i,c]*light + bias)\n",
    "                if tmp > 255:\n",
    "                    tmp = 255\n",
    "                elif tmp < 0:\n",
    "                    tmp = 0\n",
    "                img[j,i,c] = tmp\n",
    "    return img\n",
    " \n",
    "#使用dlib自带的frontal_face_detector作为我们的特征提取器\n",
    "detector = dlib.get_frontal_face_detector()\n",
    "# 打开摄像头 参数为输入流，可以为摄像头或视频文件\n",
    "camera = cv2.VideoCapture(0)\n",
    "#camera = cv2.VideoCapture('C:/Users/CUNGU/Videos/Captures/wang.mp4')\n",
    "ok = True\n",
    "\n",
    "detector = dlib.get_frontal_face_detector()\n",
    "predictor = dlib.shape_predictor('shape_predictor_68_face_landmarks.dat')\n",
    "\n",
    "\n",
    "while ok:\n",
    "    # 读取摄像头中的图像，ok为是否读取成功的判断参数\n",
    "    ok, img = camera.read()\n",
    "    \n",
    "    # 转换成灰度图像\n",
    "    img_gray = cv2.cvtColor(img, cv2.COLOR_BGR2GRAY)\n",
    "\n",
    "    rects = detector(img_gray, 0)\n",
    "    \n",
    "    for i in range(len(rects)):\n",
    "        landmarks = np.matrix([[p.x, p.y] for p in predictor(img,rects[i]).parts()])\n",
    "        for idx, point in enumerate(landmarks):\n",
    "            # 68点的坐标\n",
    "            pos = (point[0, 0], point[0, 1])\n",
    "            print(idx,pos)\n",
    "    \n",
    "            # 利用cv2.circle给每个特征点画一个圈，共68个\n",
    "            cv2.circle(img, pos, 2, color=(0, 255, 0))\n",
    "            # 利用cv2.putText输出1-68\n",
    "            font = cv2.FONT_HERSHEY_SIMPLEX\n",
    "            cv2.putText(img, str(idx+1), pos, font, 0.2, (0, 0, 255), 1,cv2.LINE_AA)\n",
    "    cv2.imshow('video', img)\n",
    "    k = cv2.waitKey(1)\n",
    "    if k == 27:    # press 'ESC' to quit\n",
    "        break\n",
    "    \n",
    "camera.release()\n",
    "cv2.destroyAllWindows()\n"
   ]
  },
  {
   "cell_type": "code",
   "execution_count": null,
   "id": "0dbe002e",
   "metadata": {},
   "outputs": [],
   "source": []
  }
 ],
 "metadata": {
  "kernelspec": {
   "display_name": "Python 3 (ipykernel)",
   "language": "python",
   "name": "python3"
  },
  "language_info": {
   "codemirror_mode": {
    "name": "ipython",
    "version": 3
   },
   "file_extension": ".py",
   "mimetype": "text/x-python",
   "name": "python",
   "nbconvert_exporter": "python",
   "pygments_lexer": "ipython3",
   "version": "3.8.2"
  }
 },
 "nbformat": 4,
 "nbformat_minor": 5
}
